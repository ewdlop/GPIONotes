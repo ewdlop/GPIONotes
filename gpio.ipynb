{
 "cells": [
  {
   "cell_type": "code",
   "execution_count": null,
   "metadata": {},
   "outputs": [],
   "source": [
    "from gpiozero import LED \n",
    "from time import sleep \n",
    "\n",
    "red = LED(17) \n",
    " \n",
    "while True: \n",
    "    red.on()    #turn led on \n",
    "    sleep(1)    #delay for 1 second \n",
    "    red.off()   #turn led off \n",
    "    sleep(1)    #delay for 1 second"
   ]
  }
 ],
 "metadata": {
  "language_info": {
   "name": "python"
  }
 },
 "nbformat": 4,
 "nbformat_minor": 2
}
